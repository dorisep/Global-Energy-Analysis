{
 "cells": [
  {
   "cell_type": "code",
   "execution_count": 12,
   "metadata": {},
   "outputs": [],
   "source": [
    "import csv\n",
    "import os\n",
    "# csv file names\n",
    "file_In = [\"EBOT.csv\", \"TEC.csv\", \"TEP.csv\", \"EIG.csv\"]\n",
    "file_Out = [\"EBOT_Mod.csv\", \"TEC_Mod.csv\", \"TEP_Mod.csv\", \"EIG_Mod.csv\"]\n",
    "# File paths\n",
    "path_in = os.path.join('..', 'Data')\n",
    "path_out = os.path.join('..', 'Data', 'Data_Mod')\n",
    "# reader in csv\n",
    "for In, Out in zip(file_In, file_Out):\n",
    "#     for Out in (file_Out):\n",
    "    with open(path_in+'/'+In, 'r', newline='') as csvfile:\n",
    "#     create csv reader object\n",
    "        csvreader = csv.reader(csvfile, delimiter=',')\n",
    "#     extract header\n",
    "        header = next(csvreader)\n",
    "#     transform header columns with numerics and add 'trade'\n",
    "        header [2:] = ['trade' + h for h in header [2:]]\n",
    "#     open modified file and write\n",
    "        with open(path_out+'/'+Out, 'w', newline='') as f:\n",
    "            writer = csv.writer(f)\n",
    "            writer.writerow(header)\n",
    "            writer.writerows(csvreader)"
   ]
  },
  {
   "cell_type": "code",
   "execution_count": null,
   "metadata": {},
   "outputs": [],
   "source": []
  }
 ],
 "metadata": {
  "kernelspec": {
   "display_name": "Python 3",
   "language": "python",
   "name": "python3"
  },
  "language_info": {
   "codemirror_mode": {
    "name": "ipython",
    "version": 3
   },
   "file_extension": ".py",
   "mimetype": "text/x-python",
   "name": "python",
   "nbconvert_exporter": "python",
   "pygments_lexer": "ipython3",
   "version": "3.7.4"
  }
 },
 "nbformat": 4,
 "nbformat_minor": 2
}
